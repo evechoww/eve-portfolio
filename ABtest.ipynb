{
 "cells": [
  {
   "cell_type": "code",
   "execution_count": 7,
   "id": "cf40cb08",
   "metadata": {},
   "outputs": [
    {
     "name": "stdout",
     "output_type": "stream",
     "text": [
      "   product_id product_name        category   price  review_score  \\\n",
      "0           1    Product_1        Clothing  190.40           1.7   \n",
      "1           2    Product_2  Home & Kitchen  475.60           3.2   \n",
      "2           3    Product_3            Toys  367.34           4.5   \n",
      "3           4    Product_4            Toys  301.34           3.9   \n",
      "4           5    Product_5           Books   82.23           4.2   \n",
      "\n",
      "   review_count  sales_month_1  sales_month_2  sales_month_3  sales_month_4  \\\n",
      "0           220            479            449             92            784   \n",
      "1           903             21            989            861            863   \n",
      "2           163            348            558            567            143   \n",
      "3           951            725            678             59             15   \n",
      "4           220            682            451            649            301   \n",
      "\n",
      "   sales_month_5  sales_month_6  sales_month_7  sales_month_8  sales_month_9  \\\n",
      "0            604            904            446            603            807   \n",
      "1            524            128            610            436            176   \n",
      "2            771            409            290            828            340   \n",
      "3            937            421            670            933             56   \n",
      "4            620            293            411            258            854   \n",
      "\n",
      "   sales_month_10  sales_month_11  sales_month_12  \n",
      "0             252             695             306  \n",
      "1             294             772             353  \n",
      "2             667             267             392  \n",
      "3             157             168             203  \n",
      "4             548             770             257  \n"
     ]
    }
   ],
   "source": [
    "import pandas as pd  # 处理数据\n",
    "import numpy as np  # 处理随机数据\n",
    "import matplotlib.pyplot as plt  # 静态图表\n",
    "import seaborn as sns  # 统计数据可视化\n",
    "from scipy import stats  # 统计分析\n",
    "import plotly.express as px  # 交互式可视化\n",
    "\n",
    "# 1️⃣ 读取 CSV 文件\n",
    "file_path = \"/Users/mac/Downloads/ecommerce_sales_analysis.csv\"  # 确保路径正确\n",
    "df = pd.read_csv(file_path)\n",
    "\n",
    "# 2️⃣ 查看数据前 5 行\n",
    "print(df.head())\n",
    "\n"
   ]
  },
  {
   "cell_type": "code",
   "execution_count": 8,
   "id": "cdda7954",
   "metadata": {},
   "outputs": [
    {
     "name": "stdout",
     "output_type": "stream",
     "text": [
      "   product_id product_name        category   price  review_score  \\\n",
      "0           1    Product_1        Clothing  190.40           1.7   \n",
      "1           2    Product_2  Home & Kitchen  475.60           3.2   \n",
      "2           3    Product_3            Toys  367.34           4.5   \n",
      "3           4    Product_4            Toys  301.34           3.9   \n",
      "4           5    Product_5           Books   82.23           4.2   \n",
      "\n",
      "   review_count  sales_month_1  sales_month_2  sales_month_3  sales_month_4  \\\n",
      "0           220            479            449             92            784   \n",
      "1           903             21            989            861            863   \n",
      "2           163            348            558            567            143   \n",
      "3           951            725            678             59             15   \n",
      "4           220            682            451            649            301   \n",
      "\n",
      "   sales_month_5  sales_month_6  sales_month_7  sales_month_8  sales_month_9  \\\n",
      "0            604            904            446            603            807   \n",
      "1            524            128            610            436            176   \n",
      "2            771            409            290            828            340   \n",
      "3            937            421            670            933             56   \n",
      "4            620            293            411            258            854   \n",
      "\n",
      "   sales_month_10  sales_month_11  sales_month_12      group_label  \n",
      "0             252             695             306  Buy One Get One  \n",
      "1             294             772             353         Discount  \n",
      "2             667             267             392  Buy One Get One  \n",
      "3             157             168             203  Buy One Get One  \n",
      "4             548             770             257  Buy One Get One  \n"
     ]
    }
   ],
   "source": [
    "# 1️⃣ 删除缺失值\n",
    "df.dropna(inplace=True)\n",
    "\n",
    "# 2️⃣ 确保数据格式正确\n",
    "df = df.astype({\n",
    "    \"price\": \"float\", \n",
    "    \"review_score\": \"float\", \n",
    "    \"review_count\": \"int\"\n",
    "})\n",
    "\n",
    "# 3️⃣ 创建 A/B 测试组（如果数据集中没有）\n",
    "np.random.seed(42)  # 固定随机数种子，保证实验可复现\n",
    "df[\"group_label\"] = np.random.choice([\"Buy One Get One\", \"Discount\"], size=len(df))\n",
    "\n",
    "# 4️⃣ 查看数据集是否更新\n",
    "print(df.head())\n"
   ]
  },
  {
   "cell_type": "code",
   "execution_count": 9,
   "id": "33f7a7f9",
   "metadata": {},
   "outputs": [
    {
     "name": "stdout",
     "output_type": "stream",
     "text": [
      "T-test statistic: -0.6746, P-value: 0.5001\n"
     ]
    }
   ],
   "source": [
    "# 1️⃣ 计算总收入\n",
    "df[\"total_revenue\"] = df[\"price\"] * df[\"sales_month_1\"]\n",
    "\n",
    "# 2️⃣ 分组计算\n",
    "group_a = df[df[\"group_label\"] == \"Buy One Get One\"][\"total_revenue\"]\n",
    "group_b = df[df[\"group_label\"] == \"Discount\"][\"total_revenue\"]\n",
    "\n",
    "# 3️⃣ 进行 T 检验（独立样本）\n",
    "t_stat, p_value = stats.ttest_ind(group_a, group_b)\n",
    "print(f\"T-test statistic: {t_stat:.4f}, P-value: {p_value:.4f}\")\n",
    "\n",
    "# 📌 结论：\n",
    "# - p < 0.05：表明两种促销策略的收入有显著差异\n",
    "# - p >= 0.05：表明促销策略对收入影响不显著\n"
   ]
  },
  {
   "cell_type": "code",
   "execution_count": 10,
   "id": "ba3b16f0",
   "metadata": {},
   "outputs": [
    {
     "data": {
      "image/png": "[encoded data removed]",
      "text/plain": [
       "<Figure size 576x360 with 1 Axes>"
      ]
     },
     "metadata": {
      "needs_background": "light"
     },
     "output_type": "display_data"
    }
   ],
   "source": [
    "plt.figure(figsize=(8, 5))\n",
    "sns.barplot(x=\"group_label\", y=\"total_revenue\", data=df, palette=[\"blue\", \"orange\"])\n",
    "plt.title(\"Revenue Comparison: Buy One Get One vs Discount\")\n",
    "plt.xlabel(\"Promotion Type\")\n",
    "plt.ylabel(\"Total Revenue\")\n",
    "plt.show()\n"
   ]
  },
  {
   "cell_type": "code",
   "execution_count": 13,
   "id": "c38e576a",
   "metadata": {},
   "outputs": [
    {
     "data": {
      "image/png": "[encoded data removed]",
      "text/plain": [
       "<Figure size 576x360 with 1 Axes>"
      ]
     },
     "metadata": {
      "needs_background": "light"
     },
     "output_type": "display_data"
    }
   ],
   "source": [
    "plt.figure(figsize=(8, 5))\n",
    "\n",
    "sns.histplot(df[df[\"group_label\"] == \"Buy One Get One\"][\"total_revenue\"], \n",
    "             color=\"blue\", label=\"Buy One Get One\", bins=30)\n",
    "\n",
    "sns.histplot(df[df[\"group_label\"] == \"Discount\"][\"total_revenue\"], \n",
    "             color=\"orange\", label=\"Discount\", bins=30)\n",
    "\n",
    "plt.title(\"Revenue Distribution by Promotion Type\")\n",
    "plt.xlabel(\"Total Revenue\")\n",
    "plt.ylabel(\"Frequency\")\n",
    "plt.legend()\n",
    "plt.show()\n",
    "\n"
   ]
  },
  {
   "cell_type": "code",
   "execution_count": 18,
   "id": "90550019",
   "metadata": {},
   "outputs": [
    {
     "name": "stdout",
     "output_type": "stream",
     "text": [
      "       group_label  conversion_rate  average_order_value  repeat_purchase_rate\n",
      "0  Buy One Get One             0.05           242.567878                   NaN\n",
      "1         Discount             0.05           252.586020                   NaN\n"
     ]
    }
   ],
   "source": [
    "import pandas as pd\n",
    "import numpy as np\n",
    "\n",
    "# Load dataset (assuming it's already loaded as df)\n",
    "\n",
    "# Compute total sales and revenue across all months\n",
    "df[\"total_sales\"] = df[[col for col in df.columns if \"sales_month\" in col]].sum(axis=1)\n",
    "df[\"total_revenue\"] = df[\"price\"] * df[\"total_sales\"]\n",
    "\n",
    "# Estimate visitors per product (assumed conversion ratio of 5%)\n",
    "df[\"estimated_visitors\"] = df[\"total_sales\"] / 0.05  # Adjust ratio if needed\n",
    "\n",
    "# Compute key metrics\n",
    "df[\"conversion_rate\"] = df[\"total_sales\"] / df[\"estimated_visitors\"]\n",
    "df[\"average_order_value\"] = df[\"total_revenue\"] / df[\"total_sales\"]\n",
    "\n",
    "# Approximate repeat purchase rate using multi-month sales (if high sales continue, users are likely repurchasing)\n",
    "df[\"repeat_purchase_rate\"] = df[\"sales_month_2\"] / df[\"sales_month_1\"]\n",
    "\n",
    "# Grouped analysis by A/B test group\n",
    "metrics = df.groupby(\"group_label\").agg(\n",
    "    conversion_rate=(\"conversion_rate\", \"mean\"),\n",
    "    average_order_value=(\"average_order_value\", \"mean\"),\n",
    "    repeat_purchase_rate=(\"repeat_purchase_rate\", \"mean\")\n",
    ").reset_index()\n",
    "\n",
    "print(metrics)\n"
   ]
  },
  {
   "cell_type": "code",
   "execution_count": null,
   "id": "efcfab41",
   "metadata": {},
   "outputs": [],
   "source": []
  }
 ],
 "metadata": {
  "kernelspec": {
   "display_name": "Python 3",
   "language": "python",
   "name": "python3"
  }
 },
 "nbformat": 4,
 "nbformat_minor": 5
}
